{
  "nbformat": 4,
  "nbformat_minor": 0,
  "metadata": {
    "colab": {
      "provenance": []
    },
    "kernelspec": {
      "name": "python3",
      "display_name": "Python 3"
    },
    "language_info": {
      "name": "python"
    }
  },
  "cells": [
    {
      "cell_type": "markdown",
      "source": [
        "The goal of this paper is to try to explain how the market value of a soccer player changes with respect to certain skills, such as passing ability, shooting ability, or age.\n",
        "To do so, the following will be considered: the simple linear regression model, the Polynomial regression model, the regularized Ridge, and Lasso regression models. In conclusion, an analysis of the results obtained will be made. The data used are from Kaggle's \"FIFA 23\" dataset."
      ],
      "metadata": {
        "id": "19ggKhB70zNh"
      }
    },
    {
      "cell_type": "code",
      "source": [
        "#importo pacchetti necessari \n",
        "\n",
        "import pandas as pd\n",
        "import seaborn as sns\n",
        "import numpy as np\n",
        "import matplotlib.pyplot as plt\n",
        "from sklearn.model_selection import train_test_split\n",
        "from sklearn.linear_model import LinearRegression\n",
        "from sklearn.metrics import r2_score\n",
        "from sklearn.metrics import mean_squared_error\n",
        "from google.colab import drive\n",
        "from sklearn.metrics import r2_score\n",
        "from sklearn.metrics import mean_squared_error\n",
        "import statsmodels.api as sm\n",
        "from sklearn.preprocessing import PolynomialFeatures"
      ],
      "metadata": {
        "id": "0IU_R1qxv0XR"
      },
      "execution_count": null,
      "outputs": []
    },
    {
      "cell_type": "code",
      "source": [
        "drive.mount('/content/drive')"
      ],
      "metadata": {
        "colab": {
          "base_uri": "https://localhost:8080/"
        },
        "id": "OjOQfWo_ekTG",
        "outputId": "8a1565b5-f766-4cdb-8972-9f328e6e1521"
      },
      "execution_count": null,
      "outputs": [
        {
          "output_type": "stream",
          "name": "stdout",
          "text": [
            "Mounted at /content/drive\n"
          ]
        }
      ]
    },
    {
      "cell_type": "markdown",
      "source": [
        "***1 Data used***\n",
        "\n",
        "\n",
        "The data used refers to 18538 soccer players\n",
        "\n",
        "In this section, the data are imported, the variable \"preferred foot\" is transfromed into a dummy variable, after which the correlation plots and pairplots of each variable of X (regressors) versus variable Y (target) are analyzed"
      ],
      "metadata": {
        "id": "WhWr8tZUCQRI"
      }
    },
    {
      "cell_type": "code",
      "execution_count": null,
      "metadata": {
        "colab": {
          "base_uri": "https://localhost:8080/",
          "height": 498
        },
        "id": "w_o_Z2RaQdtF",
        "outputId": "ccdf1d09-a09d-4d81-b056-606834e6a8b8"
      },
      "outputs": [
        {
          "output_type": "execute_result",
          "data": {
            "text/plain": [
              "             Known As  Value(in Euro)  Overall  Potential  Age  Height(in cm)  \\\n",
              "0            L. Messi        54000000       91         91   35            169   \n",
              "1          K. Benzema        64000000       91         91   34            185   \n",
              "2      R. Lewandowski        84000000       91         91   33            185   \n",
              "3        K. De Bruyne       107500000       91         91   31            181   \n",
              "4           K. Mbappé       190500000       91         95   23            182   \n",
              "...               ...             ...      ...        ...  ...            ...   \n",
              "18534      D. Collins          110000       47         56   21            174   \n",
              "18535    Yang Dejiang           90000       47         57   17            175   \n",
              "18536       L. Mullan          130000       47         67   18            170   \n",
              "18537    D. McCallion          100000       47         61   17            178   \n",
              "18538        N. Rabha           60000       47         50   25            176   \n",
              "\n",
              "       Weight(in kg)  Preferred Foot  Pace Total  Shooting Total  \\\n",
              "0                 67               2          81              89   \n",
              "1                 81               1          80              88   \n",
              "2                 81               1          75              91   \n",
              "3                 70               1          74              88   \n",
              "4                 73               1          97              89   \n",
              "...              ...             ...         ...             ...   \n",
              "18534             68               1          68              48   \n",
              "18535             60               1          55              37   \n",
              "18536             65               1          64              40   \n",
              "18537             65               1          52              24   \n",
              "18538             66               2          61              29   \n",
              "\n",
              "       Passing Total  Dribbling Total  Defending Total  Physicality Total  \\\n",
              "0                 90               94               34                 64   \n",
              "1                 83               87               39                 78   \n",
              "2                 79               86               44                 83   \n",
              "3                 93               87               64                 77   \n",
              "4                 80               92               36                 76   \n",
              "...              ...              ...              ...                ...   \n",
              "18534             43               51               31                 33   \n",
              "18535             41               47               48                 39   \n",
              "18536             49               52               37                 35   \n",
              "18537             25               32               52                 41   \n",
              "18538             35               46               44                 54   \n",
              "\n",
              "       GK Rating  \n",
              "0             22  \n",
              "1             21  \n",
              "2             22  \n",
              "3             24  \n",
              "4             21  \n",
              "...          ...  \n",
              "18534         15  \n",
              "18535         15  \n",
              "18536         17  \n",
              "18537         15  \n",
              "18538         19  \n",
              "\n",
              "[18435 rows x 15 columns]"
            ],
            "text/html": [
              "\n",
              "  <div id=\"df-de20e4c8-7147-4c99-9be3-ba0ad1cecddc\">\n",
              "    <div class=\"colab-df-container\">\n",
              "      <div>\n",
              "<style scoped>\n",
              "    .dataframe tbody tr th:only-of-type {\n",
              "        vertical-align: middle;\n",
              "    }\n",
              "\n",
              "    .dataframe tbody tr th {\n",
              "        vertical-align: top;\n",
              "    }\n",
              "\n",
              "    .dataframe thead th {\n",
              "        text-align: right;\n",
              "    }\n",
              "</style>\n",
              "<table border=\"1\" class=\"dataframe\">\n",
              "  <thead>\n",
              "    <tr style=\"text-align: right;\">\n",
              "      <th></th>\n",
              "      <th>Known As</th>\n",
              "      <th>Value(in Euro)</th>\n",
              "      <th>Overall</th>\n",
              "      <th>Potential</th>\n",
              "      <th>Age</th>\n",
              "      <th>Height(in cm)</th>\n",
              "      <th>Weight(in kg)</th>\n",
              "      <th>Preferred Foot</th>\n",
              "      <th>Pace Total</th>\n",
              "      <th>Shooting Total</th>\n",
              "      <th>Passing Total</th>\n",
              "      <th>Dribbling Total</th>\n",
              "      <th>Defending Total</th>\n",
              "      <th>Physicality Total</th>\n",
              "      <th>GK Rating</th>\n",
              "    </tr>\n",
              "  </thead>\n",
              "  <tbody>\n",
              "    <tr>\n",
              "      <th>0</th>\n",
              "      <td>L. Messi</td>\n",
              "      <td>54000000</td>\n",
              "      <td>91</td>\n",
              "      <td>91</td>\n",
              "      <td>35</td>\n",
              "      <td>169</td>\n",
              "      <td>67</td>\n",
              "      <td>2</td>\n",
              "      <td>81</td>\n",
              "      <td>89</td>\n",
              "      <td>90</td>\n",
              "      <td>94</td>\n",
              "      <td>34</td>\n",
              "      <td>64</td>\n",
              "      <td>22</td>\n",
              "    </tr>\n",
              "    <tr>\n",
              "      <th>1</th>\n",
              "      <td>K. Benzema</td>\n",
              "      <td>64000000</td>\n",
              "      <td>91</td>\n",
              "      <td>91</td>\n",
              "      <td>34</td>\n",
              "      <td>185</td>\n",
              "      <td>81</td>\n",
              "      <td>1</td>\n",
              "      <td>80</td>\n",
              "      <td>88</td>\n",
              "      <td>83</td>\n",
              "      <td>87</td>\n",
              "      <td>39</td>\n",
              "      <td>78</td>\n",
              "      <td>21</td>\n",
              "    </tr>\n",
              "    <tr>\n",
              "      <th>2</th>\n",
              "      <td>R. Lewandowski</td>\n",
              "      <td>84000000</td>\n",
              "      <td>91</td>\n",
              "      <td>91</td>\n",
              "      <td>33</td>\n",
              "      <td>185</td>\n",
              "      <td>81</td>\n",
              "      <td>1</td>\n",
              "      <td>75</td>\n",
              "      <td>91</td>\n",
              "      <td>79</td>\n",
              "      <td>86</td>\n",
              "      <td>44</td>\n",
              "      <td>83</td>\n",
              "      <td>22</td>\n",
              "    </tr>\n",
              "    <tr>\n",
              "      <th>3</th>\n",
              "      <td>K. De Bruyne</td>\n",
              "      <td>107500000</td>\n",
              "      <td>91</td>\n",
              "      <td>91</td>\n",
              "      <td>31</td>\n",
              "      <td>181</td>\n",
              "      <td>70</td>\n",
              "      <td>1</td>\n",
              "      <td>74</td>\n",
              "      <td>88</td>\n",
              "      <td>93</td>\n",
              "      <td>87</td>\n",
              "      <td>64</td>\n",
              "      <td>77</td>\n",
              "      <td>24</td>\n",
              "    </tr>\n",
              "    <tr>\n",
              "      <th>4</th>\n",
              "      <td>K. Mbappé</td>\n",
              "      <td>190500000</td>\n",
              "      <td>91</td>\n",
              "      <td>95</td>\n",
              "      <td>23</td>\n",
              "      <td>182</td>\n",
              "      <td>73</td>\n",
              "      <td>1</td>\n",
              "      <td>97</td>\n",
              "      <td>89</td>\n",
              "      <td>80</td>\n",
              "      <td>92</td>\n",
              "      <td>36</td>\n",
              "      <td>76</td>\n",
              "      <td>21</td>\n",
              "    </tr>\n",
              "    <tr>\n",
              "      <th>...</th>\n",
              "      <td>...</td>\n",
              "      <td>...</td>\n",
              "      <td>...</td>\n",
              "      <td>...</td>\n",
              "      <td>...</td>\n",
              "      <td>...</td>\n",
              "      <td>...</td>\n",
              "      <td>...</td>\n",
              "      <td>...</td>\n",
              "      <td>...</td>\n",
              "      <td>...</td>\n",
              "      <td>...</td>\n",
              "      <td>...</td>\n",
              "      <td>...</td>\n",
              "      <td>...</td>\n",
              "    </tr>\n",
              "    <tr>\n",
              "      <th>18534</th>\n",
              "      <td>D. Collins</td>\n",
              "      <td>110000</td>\n",
              "      <td>47</td>\n",
              "      <td>56</td>\n",
              "      <td>21</td>\n",
              "      <td>174</td>\n",
              "      <td>68</td>\n",
              "      <td>1</td>\n",
              "      <td>68</td>\n",
              "      <td>48</td>\n",
              "      <td>43</td>\n",
              "      <td>51</td>\n",
              "      <td>31</td>\n",
              "      <td>33</td>\n",
              "      <td>15</td>\n",
              "    </tr>\n",
              "    <tr>\n",
              "      <th>18535</th>\n",
              "      <td>Yang Dejiang</td>\n",
              "      <td>90000</td>\n",
              "      <td>47</td>\n",
              "      <td>57</td>\n",
              "      <td>17</td>\n",
              "      <td>175</td>\n",
              "      <td>60</td>\n",
              "      <td>1</td>\n",
              "      <td>55</td>\n",
              "      <td>37</td>\n",
              "      <td>41</td>\n",
              "      <td>47</td>\n",
              "      <td>48</td>\n",
              "      <td>39</td>\n",
              "      <td>15</td>\n",
              "    </tr>\n",
              "    <tr>\n",
              "      <th>18536</th>\n",
              "      <td>L. Mullan</td>\n",
              "      <td>130000</td>\n",
              "      <td>47</td>\n",
              "      <td>67</td>\n",
              "      <td>18</td>\n",
              "      <td>170</td>\n",
              "      <td>65</td>\n",
              "      <td>1</td>\n",
              "      <td>64</td>\n",
              "      <td>40</td>\n",
              "      <td>49</td>\n",
              "      <td>52</td>\n",
              "      <td>37</td>\n",
              "      <td>35</td>\n",
              "      <td>17</td>\n",
              "    </tr>\n",
              "    <tr>\n",
              "      <th>18537</th>\n",
              "      <td>D. McCallion</td>\n",
              "      <td>100000</td>\n",
              "      <td>47</td>\n",
              "      <td>61</td>\n",
              "      <td>17</td>\n",
              "      <td>178</td>\n",
              "      <td>65</td>\n",
              "      <td>1</td>\n",
              "      <td>52</td>\n",
              "      <td>24</td>\n",
              "      <td>25</td>\n",
              "      <td>32</td>\n",
              "      <td>52</td>\n",
              "      <td>41</td>\n",
              "      <td>15</td>\n",
              "    </tr>\n",
              "    <tr>\n",
              "      <th>18538</th>\n",
              "      <td>N. Rabha</td>\n",
              "      <td>60000</td>\n",
              "      <td>47</td>\n",
              "      <td>50</td>\n",
              "      <td>25</td>\n",
              "      <td>176</td>\n",
              "      <td>66</td>\n",
              "      <td>2</td>\n",
              "      <td>61</td>\n",
              "      <td>29</td>\n",
              "      <td>35</td>\n",
              "      <td>46</td>\n",
              "      <td>44</td>\n",
              "      <td>54</td>\n",
              "      <td>19</td>\n",
              "    </tr>\n",
              "  </tbody>\n",
              "</table>\n",
              "<p>18435 rows × 15 columns</p>\n",
              "</div>\n",
              "      <button class=\"colab-df-convert\" onclick=\"convertToInteractive('df-de20e4c8-7147-4c99-9be3-ba0ad1cecddc')\"\n",
              "              title=\"Convert this dataframe to an interactive table.\"\n",
              "              style=\"display:none;\">\n",
              "        \n",
              "  <svg xmlns=\"http://www.w3.org/2000/svg\" height=\"24px\"viewBox=\"0 0 24 24\"\n",
              "       width=\"24px\">\n",
              "    <path d=\"M0 0h24v24H0V0z\" fill=\"none\"/>\n",
              "    <path d=\"M18.56 5.44l.94 2.06.94-2.06 2.06-.94-2.06-.94-.94-2.06-.94 2.06-2.06.94zm-11 1L8.5 8.5l.94-2.06 2.06-.94-2.06-.94L8.5 2.5l-.94 2.06-2.06.94zm10 10l.94 2.06.94-2.06 2.06-.94-2.06-.94-.94-2.06-.94 2.06-2.06.94z\"/><path d=\"M17.41 7.96l-1.37-1.37c-.4-.4-.92-.59-1.43-.59-.52 0-1.04.2-1.43.59L10.3 9.45l-7.72 7.72c-.78.78-.78 2.05 0 2.83L4 21.41c.39.39.9.59 1.41.59.51 0 1.02-.2 1.41-.59l7.78-7.78 2.81-2.81c.8-.78.8-2.07 0-2.86zM5.41 20L4 18.59l7.72-7.72 1.47 1.35L5.41 20z\"/>\n",
              "  </svg>\n",
              "      </button>\n",
              "      \n",
              "  <style>\n",
              "    .colab-df-container {\n",
              "      display:flex;\n",
              "      flex-wrap:wrap;\n",
              "      gap: 12px;\n",
              "    }\n",
              "\n",
              "    .colab-df-convert {\n",
              "      background-color: #E8F0FE;\n",
              "      border: none;\n",
              "      border-radius: 50%;\n",
              "      cursor: pointer;\n",
              "      display: none;\n",
              "      fill: #1967D2;\n",
              "      height: 32px;\n",
              "      padding: 0 0 0 0;\n",
              "      width: 32px;\n",
              "    }\n",
              "\n",
              "    .colab-df-convert:hover {\n",
              "      background-color: #E2EBFA;\n",
              "      box-shadow: 0px 1px 2px rgba(60, 64, 67, 0.3), 0px 1px 3px 1px rgba(60, 64, 67, 0.15);\n",
              "      fill: #174EA6;\n",
              "    }\n",
              "\n",
              "    [theme=dark] .colab-df-convert {\n",
              "      background-color: #3B4455;\n",
              "      fill: #D2E3FC;\n",
              "    }\n",
              "\n",
              "    [theme=dark] .colab-df-convert:hover {\n",
              "      background-color: #434B5C;\n",
              "      box-shadow: 0px 1px 3px 1px rgba(0, 0, 0, 0.15);\n",
              "      filter: drop-shadow(0px 1px 2px rgba(0, 0, 0, 0.3));\n",
              "      fill: #FFFFFF;\n",
              "    }\n",
              "  </style>\n",
              "\n",
              "      <script>\n",
              "        const buttonEl =\n",
              "          document.querySelector('#df-de20e4c8-7147-4c99-9be3-ba0ad1cecddc button.colab-df-convert');\n",
              "        buttonEl.style.display =\n",
              "          google.colab.kernel.accessAllowed ? 'block' : 'none';\n",
              "\n",
              "        async function convertToInteractive(key) {\n",
              "          const element = document.querySelector('#df-de20e4c8-7147-4c99-9be3-ba0ad1cecddc');\n",
              "          const dataTable =\n",
              "            await google.colab.kernel.invokeFunction('convertToInteractive',\n",
              "                                                     [key], {});\n",
              "          if (!dataTable) return;\n",
              "\n",
              "          const docLinkHtml = 'Like what you see? Visit the ' +\n",
              "            '<a target=\"_blank\" href=https://colab.research.google.com/notebooks/data_table.ipynb>data table notebook</a>'\n",
              "            + ' to learn more about interactive tables.';\n",
              "          element.innerHTML = '';\n",
              "          dataTable['output_type'] = 'display_data';\n",
              "          await google.colab.output.renderOutput(dataTable, element);\n",
              "          const docLink = document.createElement('div');\n",
              "          docLink.innerHTML = docLinkHtml;\n",
              "          element.appendChild(docLink);\n",
              "        }\n",
              "      </script>\n",
              "    </div>\n",
              "  </div>\n",
              "  "
            ]
          },
          "metadata": {},
          "execution_count": 137
        }
      ],
      "source": [
        "df0 = pd.read_excel('/content/drive/MyDrive/Fifa 23 Players Data update.xlsx', header=0)\n",
        "\n",
        "pd.DataFrame.dropna(df0)\n",
        "\n",
        "df = df0.drop(df0[df0['Value(in Euro)'] == 0].index)\n",
        "\n",
        "# Sostituisco \"Right\" con 0 e \"Left\" con 1 nella colonna \"Piede preferito\"\n",
        "df['Preferred Foot'] = df['Preferred Foot'].replace({\"Right\": 1, \"Left\": 2})\n",
        "\n",
        "df"
      ]
    },
    {
      "cell_type": "code",
      "source": [
        "df.shape"
      ],
      "metadata": {
        "id": "pg-Pj7AiTPxg",
        "colab": {
          "base_uri": "https://localhost:8080/"
        },
        "outputId": "9bb3ffa9-edd6-4c47-89f3-8009d7a54d81"
      },
      "execution_count": null,
      "outputs": [
        {
          "output_type": "execute_result",
          "data": {
            "text/plain": [
              "(18435, 15)"
            ]
          },
          "metadata": {},
          "execution_count": 138
        }
      ]
    },
    {
      "cell_type": "code",
      "source": [
        "df.describe()"
      ],
      "metadata": {
        "id": "Euwt-ajUkpnT",
        "colab": {
          "base_uri": "https://localhost:8080/",
          "height": 361
        },
        "outputId": "ec4754a2-08df-4ab6-e116-fff1a3823a2b"
      },
      "execution_count": null,
      "outputs": [
        {
          "output_type": "execute_result",
          "data": {
            "text/plain": [
              "       Value(in Euro)   Overall  Potential       Age  Height(in cm)  \\\n",
              "count       18,435.00 18,435.00  18,435.00 18,435.00      18,435.00   \n",
              "mean     2,891,683.15     65.83      71.01     25.22         181.55   \n",
              "std      7,653,572.38      6.79       6.20      4.70           6.86   \n",
              "min          9,000.00     47.00      48.00     16.00         155.00   \n",
              "25%        500,000.00     62.00      67.00     21.00         177.00   \n",
              "50%      1,000,000.00     66.00      71.00     25.00         182.00   \n",
              "75%      2,000,000.00     70.00      75.00     29.00         186.00   \n",
              "max    190,500,000.00     91.00      95.00     44.00         206.00   \n",
              "\n",
              "       Weight(in kg)  Preferred Foot  Pace Total  Shooting Total  \\\n",
              "count      18,435.00       18,435.00   18,435.00       18,435.00   \n",
              "mean           75.17            1.24       68.01           53.75   \n",
              "std             7.01            0.43       10.64           13.61   \n",
              "min            49.00            1.00       28.00           16.00   \n",
              "25%            70.00            1.00       62.00           44.00   \n",
              "50%            75.00            1.00       68.00           56.00   \n",
              "75%            80.00            1.00       75.00           64.00   \n",
              "max           105.00            2.00       97.00           92.00   \n",
              "\n",
              "       Passing Total  Dribbling Total  Defending Total  Physicality Total  \\\n",
              "count      18,435.00        18,435.00        18,435.00          18,435.00   \n",
              "mean           58.01            63.09            50.23              64.76   \n",
              "std             9.72             9.33            16.39               9.58   \n",
              "min            25.00            28.00            15.00              30.00   \n",
              "25%            52.00            58.00            36.00              58.00   \n",
              "50%            58.00            64.00            54.00              66.00   \n",
              "75%            64.00            69.00            63.00              72.00   \n",
              "max            93.00            94.00            91.00              91.00   \n",
              "\n",
              "       GK Rating  \n",
              "count  18,435.00  \n",
              "mean       23.23  \n",
              "std        15.07  \n",
              "min        10.00  \n",
              "25%        17.00  \n",
              "50%        18.00  \n",
              "75%        20.00  \n",
              "max        90.00  "
            ],
            "text/html": [
              "\n",
              "  <div id=\"df-dab3bf99-60ce-461e-8482-0da234d8f4da\">\n",
              "    <div class=\"colab-df-container\">\n",
              "      <div>\n",
              "<style scoped>\n",
              "    .dataframe tbody tr th:only-of-type {\n",
              "        vertical-align: middle;\n",
              "    }\n",
              "\n",
              "    .dataframe tbody tr th {\n",
              "        vertical-align: top;\n",
              "    }\n",
              "\n",
              "    .dataframe thead th {\n",
              "        text-align: right;\n",
              "    }\n",
              "</style>\n",
              "<table border=\"1\" class=\"dataframe\">\n",
              "  <thead>\n",
              "    <tr style=\"text-align: right;\">\n",
              "      <th></th>\n",
              "      <th>Value(in Euro)</th>\n",
              "      <th>Overall</th>\n",
              "      <th>Potential</th>\n",
              "      <th>Age</th>\n",
              "      <th>Height(in cm)</th>\n",
              "      <th>Weight(in kg)</th>\n",
              "      <th>Preferred Foot</th>\n",
              "      <th>Pace Total</th>\n",
              "      <th>Shooting Total</th>\n",
              "      <th>Passing Total</th>\n",
              "      <th>Dribbling Total</th>\n",
              "      <th>Defending Total</th>\n",
              "      <th>Physicality Total</th>\n",
              "      <th>GK Rating</th>\n",
              "    </tr>\n",
              "  </thead>\n",
              "  <tbody>\n",
              "    <tr>\n",
              "      <th>count</th>\n",
              "      <td>18,435.00</td>\n",
              "      <td>18,435.00</td>\n",
              "      <td>18,435.00</td>\n",
              "      <td>18,435.00</td>\n",
              "      <td>18,435.00</td>\n",
              "      <td>18,435.00</td>\n",
              "      <td>18,435.00</td>\n",
              "      <td>18,435.00</td>\n",
              "      <td>18,435.00</td>\n",
              "      <td>18,435.00</td>\n",
              "      <td>18,435.00</td>\n",
              "      <td>18,435.00</td>\n",
              "      <td>18,435.00</td>\n",
              "      <td>18,435.00</td>\n",
              "    </tr>\n",
              "    <tr>\n",
              "      <th>mean</th>\n",
              "      <td>2,891,683.15</td>\n",
              "      <td>65.83</td>\n",
              "      <td>71.01</td>\n",
              "      <td>25.22</td>\n",
              "      <td>181.55</td>\n",
              "      <td>75.17</td>\n",
              "      <td>1.24</td>\n",
              "      <td>68.01</td>\n",
              "      <td>53.75</td>\n",
              "      <td>58.01</td>\n",
              "      <td>63.09</td>\n",
              "      <td>50.23</td>\n",
              "      <td>64.76</td>\n",
              "      <td>23.23</td>\n",
              "    </tr>\n",
              "    <tr>\n",
              "      <th>std</th>\n",
              "      <td>7,653,572.38</td>\n",
              "      <td>6.79</td>\n",
              "      <td>6.20</td>\n",
              "      <td>4.70</td>\n",
              "      <td>6.86</td>\n",
              "      <td>7.01</td>\n",
              "      <td>0.43</td>\n",
              "      <td>10.64</td>\n",
              "      <td>13.61</td>\n",
              "      <td>9.72</td>\n",
              "      <td>9.33</td>\n",
              "      <td>16.39</td>\n",
              "      <td>9.58</td>\n",
              "      <td>15.07</td>\n",
              "    </tr>\n",
              "    <tr>\n",
              "      <th>min</th>\n",
              "      <td>9,000.00</td>\n",
              "      <td>47.00</td>\n",
              "      <td>48.00</td>\n",
              "      <td>16.00</td>\n",
              "      <td>155.00</td>\n",
              "      <td>49.00</td>\n",
              "      <td>1.00</td>\n",
              "      <td>28.00</td>\n",
              "      <td>16.00</td>\n",
              "      <td>25.00</td>\n",
              "      <td>28.00</td>\n",
              "      <td>15.00</td>\n",
              "      <td>30.00</td>\n",
              "      <td>10.00</td>\n",
              "    </tr>\n",
              "    <tr>\n",
              "      <th>25%</th>\n",
              "      <td>500,000.00</td>\n",
              "      <td>62.00</td>\n",
              "      <td>67.00</td>\n",
              "      <td>21.00</td>\n",
              "      <td>177.00</td>\n",
              "      <td>70.00</td>\n",
              "      <td>1.00</td>\n",
              "      <td>62.00</td>\n",
              "      <td>44.00</td>\n",
              "      <td>52.00</td>\n",
              "      <td>58.00</td>\n",
              "      <td>36.00</td>\n",
              "      <td>58.00</td>\n",
              "      <td>17.00</td>\n",
              "    </tr>\n",
              "    <tr>\n",
              "      <th>50%</th>\n",
              "      <td>1,000,000.00</td>\n",
              "      <td>66.00</td>\n",
              "      <td>71.00</td>\n",
              "      <td>25.00</td>\n",
              "      <td>182.00</td>\n",
              "      <td>75.00</td>\n",
              "      <td>1.00</td>\n",
              "      <td>68.00</td>\n",
              "      <td>56.00</td>\n",
              "      <td>58.00</td>\n",
              "      <td>64.00</td>\n",
              "      <td>54.00</td>\n",
              "      <td>66.00</td>\n",
              "      <td>18.00</td>\n",
              "    </tr>\n",
              "    <tr>\n",
              "      <th>75%</th>\n",
              "      <td>2,000,000.00</td>\n",
              "      <td>70.00</td>\n",
              "      <td>75.00</td>\n",
              "      <td>29.00</td>\n",
              "      <td>186.00</td>\n",
              "      <td>80.00</td>\n",
              "      <td>1.00</td>\n",
              "      <td>75.00</td>\n",
              "      <td>64.00</td>\n",
              "      <td>64.00</td>\n",
              "      <td>69.00</td>\n",
              "      <td>63.00</td>\n",
              "      <td>72.00</td>\n",
              "      <td>20.00</td>\n",
              "    </tr>\n",
              "    <tr>\n",
              "      <th>max</th>\n",
              "      <td>190,500,000.00</td>\n",
              "      <td>91.00</td>\n",
              "      <td>95.00</td>\n",
              "      <td>44.00</td>\n",
              "      <td>206.00</td>\n",
              "      <td>105.00</td>\n",
              "      <td>2.00</td>\n",
              "      <td>97.00</td>\n",
              "      <td>92.00</td>\n",
              "      <td>93.00</td>\n",
              "      <td>94.00</td>\n",
              "      <td>91.00</td>\n",
              "      <td>91.00</td>\n",
              "      <td>90.00</td>\n",
              "    </tr>\n",
              "  </tbody>\n",
              "</table>\n",
              "</div>\n",
              "      <button class=\"colab-df-convert\" onclick=\"convertToInteractive('df-dab3bf99-60ce-461e-8482-0da234d8f4da')\"\n",
              "              title=\"Convert this dataframe to an interactive table.\"\n",
              "              style=\"display:none;\">\n",
              "        \n",
              "  <svg xmlns=\"http://www.w3.org/2000/svg\" height=\"24px\"viewBox=\"0 0 24 24\"\n",
              "       width=\"24px\">\n",
              "    <path d=\"M0 0h24v24H0V0z\" fill=\"none\"/>\n",
              "    <path d=\"M18.56 5.44l.94 2.06.94-2.06 2.06-.94-2.06-.94-.94-2.06-.94 2.06-2.06.94zm-11 1L8.5 8.5l.94-2.06 2.06-.94-2.06-.94L8.5 2.5l-.94 2.06-2.06.94zm10 10l.94 2.06.94-2.06 2.06-.94-2.06-.94-.94-2.06-.94 2.06-2.06.94z\"/><path d=\"M17.41 7.96l-1.37-1.37c-.4-.4-.92-.59-1.43-.59-.52 0-1.04.2-1.43.59L10.3 9.45l-7.72 7.72c-.78.78-.78 2.05 0 2.83L4 21.41c.39.39.9.59 1.41.59.51 0 1.02-.2 1.41-.59l7.78-7.78 2.81-2.81c.8-.78.8-2.07 0-2.86zM5.41 20L4 18.59l7.72-7.72 1.47 1.35L5.41 20z\"/>\n",
              "  </svg>\n",
              "      </button>\n",
              "      \n",
              "  <style>\n",
              "    .colab-df-container {\n",
              "      display:flex;\n",
              "      flex-wrap:wrap;\n",
              "      gap: 12px;\n",
              "    }\n",
              "\n",
              "    .colab-df-convert {\n",
              "      background-color: #E8F0FE;\n",
              "      border: none;\n",
              "      border-radius: 50%;\n",
              "      cursor: pointer;\n",
              "      display: none;\n",
              "      fill: #1967D2;\n",
              "      height: 32px;\n",
              "      padding: 0 0 0 0;\n",
              "      width: 32px;\n",
              "    }\n",
              "\n",
              "    .colab-df-convert:hover {\n",
              "      background-color: #E2EBFA;\n",
              "      box-shadow: 0px 1px 2px rgba(60, 64, 67, 0.3), 0px 1px 3px 1px rgba(60, 64, 67, 0.15);\n",
              "      fill: #174EA6;\n",
              "    }\n",
              "\n",
              "    [theme=dark] .colab-df-convert {\n",
              "      background-color: #3B4455;\n",
              "      fill: #D2E3FC;\n",
              "    }\n",
              "\n",
              "    [theme=dark] .colab-df-convert:hover {\n",
              "      background-color: #434B5C;\n",
              "      box-shadow: 0px 1px 3px 1px rgba(0, 0, 0, 0.15);\n",
              "      filter: drop-shadow(0px 1px 2px rgba(0, 0, 0, 0.3));\n",
              "      fill: #FFFFFF;\n",
              "    }\n",
              "  </style>\n",
              "\n",
              "      <script>\n",
              "        const buttonEl =\n",
              "          document.querySelector('#df-dab3bf99-60ce-461e-8482-0da234d8f4da button.colab-df-convert');\n",
              "        buttonEl.style.display =\n",
              "          google.colab.kernel.accessAllowed ? 'block' : 'none';\n",
              "\n",
              "        async function convertToInteractive(key) {\n",
              "          const element = document.querySelector('#df-dab3bf99-60ce-461e-8482-0da234d8f4da');\n",
              "          const dataTable =\n",
              "            await google.colab.kernel.invokeFunction('convertToInteractive',\n",
              "                                                     [key], {});\n",
              "          if (!dataTable) return;\n",
              "\n",
              "          const docLinkHtml = 'Like what you see? Visit the ' +\n",
              "            '<a target=\"_blank\" href=https://colab.research.google.com/notebooks/data_table.ipynb>data table notebook</a>'\n",
              "            + ' to learn more about interactive tables.';\n",
              "          element.innerHTML = '';\n",
              "          dataTable['output_type'] = 'display_data';\n",
              "          await google.colab.output.renderOutput(dataTable, element);\n",
              "          const docLink = document.createElement('div');\n",
              "          docLink.innerHTML = docLinkHtml;\n",
              "          element.appendChild(docLink);\n",
              "        }\n",
              "      </script>\n",
              "    </div>\n",
              "  </div>\n",
              "  "
            ]
          },
          "metadata": {},
          "execution_count": 139
        }
      ]
    },
    {
      "cell_type": "code",
      "source": [
        "corr = df.corr()\n",
        "\n",
        "# Crea la maschera di boolean --> visualizzare solo dati sopra diagonale\n",
        "mask = np.zeros_like(corr, dtype=np.bool)\n",
        "mask[np.triu_indices_from(mask)] = True\n",
        "\n",
        "plt.figure(figsize=(10, 10))\n",
        "sns.heatmap(corr, mask=mask, annot=True)\n"
      ],
      "metadata": {
        "colab": {
          "base_uri": "https://localhost:8080/",
          "height": 747
        },
        "id": "J8AdcrcuUzDz",
        "outputId": "07685f7a-a95f-4eff-9a9b-30e1654ead28"
      },
      "execution_count": null,
      "outputs": [
        {
          "output_type": "stream",
          "name": "stderr",
          "text": [
            "<ipython-input-140-7cfdea54cf4a>:4: DeprecationWarning: `np.bool` is a deprecated alias for the builtin `bool`. To silence this warning, use `bool` by itself. Doing this will not modify any behavior and is safe. If you specifically wanted the numpy scalar type, use `np.bool_` here.\n",
            "Deprecated in NumPy 1.20; for more details and guidance: https://numpy.org/devdocs/release/1.20.0-notes.html#deprecations\n",
            "  mask = np.zeros_like(corr, dtype=np.bool)\n"
          ]
        },
        {
          "output_type": "execute_result",
          "data": {
            "text/plain": [
              "<matplotlib.axes._subplots.AxesSubplot at 0x7f766fba36a0>"
            ]
          },
          "metadata": {},
          "execution_count": 140
        },
        {
          "output_type": "display_data",
          "data": {
            "text/plain": [
              "<Figure size 720x720 with 2 Axes>"
            ],
            "image/png": "[encoded data removed]"
          },
          "metadata": {
            "needs_background": "light"
          }
        }
      ]
    },
    {
      "cell_type": "markdown",
      "source": [
        "\n",
        "\n",
        "1 --> variables that seem to have the most influence are dribling, shooting, potential, overall, and passing. These variables show a positive correlation, so, as is logical to expect, as a player's dribling ability increases, so will his value. We can also see that the correlation coefficient between market value and dirbilng is greater than that of defensive skills, so we can hypothesize that the model \"tends to prefer\" more offensive players.\n",
        "\n",
        "2 --> on the contrary, the correlations of age and gk rating with the target variable are very low, despite this we cannot eliminate these variabli. in fact, it comes logical to think that age influences the market value of a player. as for the gk rating, if we eliminated it, we would risk introducing a bias in the estimation of the market value of goalkeepers\n",
        "\n",
        "\n"
      ],
      "metadata": {
        "id": "e1oUUl0Y3TIw"
      }
    },
    {
      "cell_type": "code",
      "source": [
        "\n",
        "sns.pairplot(df, y_vars=\"Value(in Euro)\")\n"
      ],
      "metadata": {
        "id": "0UrkBl0hYTRw",
        "colab": {
          "base_uri": "https://localhost:8080/",
          "height": 136
        },
        "outputId": "478d96c3-7a6a-4dad-93d7-aa9297c3647d"
      },
      "execution_count": null,
      "outputs": [
        {
          "output_type": "execute_result",
          "data": {
            "text/plain": [
              "<seaborn.axisgrid.PairGrid at 0x7f765fd15a30>"
            ]
          },
          "metadata": {},
          "execution_count": 141
        },
        {
          "output_type": "display_data",
          "data": {
            "text/plain": [
              "<Figure size 2520x180 with 15 Axes>"
            ],
            "image/png": "[encoded data removed]"
          },
          "metadata": {
            "needs_background": "light"
          }
        }
      ]
    },
    {
      "cell_type": "markdown",
      "source": [
        "from the pairplots we can see how almost all the relationships turn out to be exponential, this suggests that we will have a small group of players with a very high value compared to the others."
      ],
      "metadata": {
        "id": "BqB35m6D4QRY"
      }
    },
    {
      "cell_type": "code",
      "source": [
        "from numpy import random\n",
        "random.seed(0)"
      ],
      "metadata": {
        "id": "ehSsmVYtuOM1"
      },
      "execution_count": null,
      "outputs": []
    },
    {
      "cell_type": "markdown",
      "source": [
        "*** 2 linear regression ***\n",
        "\n",
        "in this section, after dividing the dataset into test and train set, we will try to estimate the first linear regression model, commenting on the results obtained at the same time. "
      ],
      "metadata": {
        "id": "KHqjmVoKGFBv"
      }
    },
    {
      "cell_type": "code",
      "source": [
        "#set di training e set di test\n",
        "\n",
        "y = df.iloc[:, 1]\n",
        "X = df.iloc[:, 2:15]\n",
        "\n",
        "X_train, X_test, y_train, y_test = train_test_split(X, y, test_size=0.25, random_state=45)\n",
        "\n",
        "print(f'Traning Data Shape: {X_train.shape,y_train.shape} ,TEST Data Shape:{X_test.shape,y_test.shape}')"
      ],
      "metadata": {
        "id": "gQv6MVy9e_U2",
        "colab": {
          "base_uri": "https://localhost:8080/"
        },
        "outputId": "be260f43-0de7-473d-bbc5-f098643742f4"
      },
      "execution_count": null,
      "outputs": [
        {
          "output_type": "stream",
          "name": "stdout",
          "text": [
            "Traning Data Shape: ((13826, 13), (13826,)) ,TEST Data Shape:((4609, 13), (4609,))\n"
          ]
        }
      ]
    },
    {
      "cell_type": "markdown",
      "source": [
        "**LINEAR** **REGRESSION**"
      ],
      "metadata": {
        "id": "Xjar5xuAykHn"
      }
    },
    {
      "cell_type": "code",
      "source": [
        "# REGRESSIONE LINEARE SEMPLICE CON SK-LEARN\n",
        "\n",
        "model = LinearRegression()\n",
        "\n",
        "model.fit(X_train, y_train)\n",
        "\n",
        "y_pred = model.predict(X_test)"
      ],
      "metadata": {
        "id": "DW0vguA-nqdr"
      },
      "execution_count": null,
      "outputs": []
    },
    {
      "cell_type": "code",
      "source": [
        "# R-SQUARED\n",
        "\n",
        "r2 = r2_score(y_test, y_pred)\n",
        "print(f'Coefficiente di determinazione: {r2:.2f}')\n",
        "\n"
      ],
      "metadata": {
        "id": "thDdQFatpf-e",
        "colab": {
          "base_uri": "https://localhost:8080/"
        },
        "outputId": "5e9aff51-35e1-4b18-b9d8-41011b0dfa70"
      },
      "execution_count": null,
      "outputs": [
        {
          "output_type": "stream",
          "name": "stdout",
          "text": [
            "Coefficiente di determinazione: 0.39\n"
          ]
        }
      ]
    },
    {
      "cell_type": "markdown",
      "source": [
        "for our first model we get an r^2 of 0.39, which indicates that only 39% of the variance of our y is explained by our regressors. This index turns out to be very low so let us first proceed with better analyzing the results of this model and afterwards trying to make the model more complex to better explain our target variable. "
      ],
      "metadata": {
        "id": "Cy162cNnysv7"
      }
    },
    {
      "cell_type": "code",
      "source": [
        "#MSE\n",
        "mse = mean_squared_error(y_test, y_pred)\n",
        "print(\"Mean Squared Error:\", mse)"
      ],
      "metadata": {
        "colab": {
          "base_uri": "https://localhost:8080/",
          "height": 191
        },
        "id": "dKJD_XhfoDDh",
        "outputId": "3be773bf-1d9c-4174-f230-b4b27713e1ee"
      },
      "execution_count": null,
      "outputs": [
        {
          "output_type": "error",
          "ename": "NameError",
          "evalue": "ignored",
          "traceback": [
            "\u001b[0;31m---------------------------------------------------------------------------\u001b[0m",
            "\u001b[0;31mNameError\u001b[0m                                 Traceback (most recent call last)",
            "\u001b[0;32m<ipython-input-1-058ee72bdd36>\u001b[0m in \u001b[0;36m<module>\u001b[0;34m\u001b[0m\n\u001b[1;32m      1\u001b[0m \u001b[0;31m#MSE\u001b[0m\u001b[0;34m\u001b[0m\u001b[0;34m\u001b[0m\u001b[0;34m\u001b[0m\u001b[0m\n\u001b[0;32m----> 2\u001b[0;31m \u001b[0mmse\u001b[0m \u001b[0;34m=\u001b[0m \u001b[0mmean_squared_error\u001b[0m\u001b[0;34m(\u001b[0m\u001b[0my_test\u001b[0m\u001b[0;34m,\u001b[0m \u001b[0my_pred\u001b[0m\u001b[0;34m)\u001b[0m\u001b[0;34m\u001b[0m\u001b[0;34m\u001b[0m\u001b[0m\n\u001b[0m\u001b[1;32m      3\u001b[0m \u001b[0mprint\u001b[0m\u001b[0;34m(\u001b[0m\u001b[0;34m\"Mean Squared Error:\"\u001b[0m\u001b[0;34m,\u001b[0m \u001b[0mmse\u001b[0m\u001b[0;34m)\u001b[0m\u001b[0;34m\u001b[0m\u001b[0;34m\u001b[0m\u001b[0m\n",
            "\u001b[0;31mNameError\u001b[0m: name 'mean_squared_error' is not defined"
          ]
        }
      ]
    },
    {
      "cell_type": "markdown",
      "source": [
        "the MSE also turns out to be very high, which confirms that we are in the presence of underfitting, that is, we have a bias given by the wrong choice of the model. "
      ],
      "metadata": {
        "id": "59cCISd7yzLp"
      }
    },
    {
      "cell_type": "code",
      "source": [
        "%matplotlib inline\n",
        "import seaborn as sns  \n",
        "\n",
        "\n",
        "#plt.hist(,bins=20)\n",
        "\n",
        "sns.distplot(y,bins=20) "
      ],
      "metadata": {
        "id": "Sh1QPd_8PNBU",
        "colab": {
          "base_uri": "https://localhost:8080/",
          "height": 360
        },
        "outputId": "317fd4b2-bd5b-445f-ca98-fe487c99d16f"
      },
      "execution_count": null,
      "outputs": [
        {
          "output_type": "stream",
          "name": "stderr",
          "text": [
            "/usr/local/lib/python3.8/dist-packages/seaborn/distributions.py:2619: FutureWarning: `distplot` is a deprecated function and will be removed in a future version. Please adapt your code to use either `displot` (a figure-level function with similar flexibility) or `histplot` (an axes-level function for histograms).\n",
            "  warnings.warn(msg, FutureWarning)\n"
          ]
        },
        {
          "output_type": "execute_result",
          "data": {
            "text/plain": [
              "<matplotlib.axes._subplots.AxesSubplot at 0x7f765a644d30>"
            ]
          },
          "metadata": {},
          "execution_count": 146
        },
        {
          "output_type": "display_data",
          "data": {
            "text/plain": [
              "<Figure size 432x288 with 1 Axes>"
            ],
            "image/png": "[encoded data removed]"
          },
          "metadata": {
            "needs_background": "light"
          }
        }
      ]
    },
    {
      "cell_type": "markdown",
      "source": [
        "also analyzing the density of our y variable, we see how it is very right shifted with a very heavy left tail, leading it to be well away from a normal distribution."
      ],
      "metadata": {
        "id": "dtwHd4QeHiMz"
      }
    },
    {
      "cell_type": "markdown",
      "source": [
        "This model does not \"fit\" the data well, so we try to transform the target variable with a logarithmic transformation in order to make this relationship more linear."
      ],
      "metadata": {
        "id": "cnYvtClwy2iO"
      }
    },
    {
      "cell_type": "markdown",
      "source": [
        "**SEZIONE 3**\n",
        "\n",
        "In this section, we will try to logarithmically trafrom the target variable and estimate a new linear regression model on it. \n",
        "\n",
        "**Seconda regressione lineare (y log)**"
      ],
      "metadata": {
        "id": "BGPmWpkPsP1j"
      }
    },
    {
      "cell_type": "code",
      "source": [
        "YLOG=np.log(y)\n",
        "YLOG"
      ],
      "metadata": {
        "id": "CUGZRwWP13OD",
        "colab": {
          "base_uri": "https://localhost:8080/"
        },
        "outputId": "1feace8d-4f1e-4d04-ce21-b9d348288a8f"
      },
      "execution_count": null,
      "outputs": [
        {
          "output_type": "execute_result",
          "data": {
            "text/plain": [
              "0       17.80\n",
              "1       17.97\n",
              "2       18.25\n",
              "3       18.49\n",
              "4       19.07\n",
              "         ... \n",
              "18534   11.61\n",
              "18535   11.41\n",
              "18536   11.78\n",
              "18537   11.51\n",
              "18538   11.00\n",
              "Name: Value(in Euro), Length: 18435, dtype: float64"
            ]
          },
          "metadata": {},
          "execution_count": 147
        }
      ]
    },
    {
      "cell_type": "code",
      "source": [
        "%matplotlib inline\n",
        "import seaborn as sns  \n",
        "\n",
        "#plt.hist(,bins=20)\n",
        "\n",
        "sns.distplot(YLOG,bins=20) "
      ],
      "metadata": {
        "colab": {
          "base_uri": "https://localhost:8080/",
          "height": 349
        },
        "id": "VJFyHefgw4Xa",
        "outputId": "1e52ab8d-e776-4bd0-fcb2-82b282cbf0da"
      },
      "execution_count": null,
      "outputs": [
        {
          "output_type": "stream",
          "name": "stderr",
          "text": [
            "/usr/local/lib/python3.8/dist-packages/seaborn/distributions.py:2619: FutureWarning: `distplot` is a deprecated function and will be removed in a future version. Please adapt your code to use either `displot` (a figure-level function with similar flexibility) or `histplot` (an axes-level function for histograms).\n",
            "  warnings.warn(msg, FutureWarning)\n"
          ]
        },
        {
          "output_type": "execute_result",
          "data": {
            "text/plain": [
              "<matplotlib.axes._subplots.AxesSubplot at 0x7f7659ed0be0>"
            ]
          },
          "metadata": {},
          "execution_count": 148
        },
        {
          "output_type": "display_data",
          "data": {
            "text/plain": [
              "<Figure size 432x288 with 1 Axes>"
            ],
            "image/png": "[encoded data removed]"
          },
          "metadata": {
            "needs_background": "light"
          }
        }
      ]
    },
    {
      "cell_type": "markdown",
      "source": [
        "the density of the new target variable seems to be much more similar to a Gaussian than seen previously, which makes us think that the logarithmic transfomation might be the correct transformation."
      ],
      "metadata": {
        "id": "BiVaiKMfw7zY"
      }
    },
    {
      "cell_type": "markdown",
      "source": [
        "will now proceed with manipulating the dataset, which because of our Y transformation presents some problems:"
      ],
      "metadata": {
        "id": "uamul56fKBbn"
      }
    },
    {
      "cell_type": "code",
      "source": [
        "df2 = df.drop(columns=['Value(in Euro)'])\n",
        "df2= df2.assign(ylog=YLOG)"
      ],
      "metadata": {
        "id": "LrdLQvjou5Xt"
      },
      "execution_count": null,
      "outputs": []
    },
    {
      "cell_type": "code",
      "source": [
        "# valori infiti o nulli?\n",
        "null_or_infinite = df2.isnull() | df2.isin([np.inf, -np.inf])\n",
        "print(null_or_infinite.sum().sum())"
      ],
      "metadata": {
        "id": "uLYSLMkezUyg",
        "colab": {
          "base_uri": "https://localhost:8080/"
        },
        "outputId": "1d3b3b39-aeb1-4703-e2fd-c71b90c6019f"
      },
      "execution_count": null,
      "outputs": [
        {
          "output_type": "stream",
          "name": "stdout",
          "text": [
            "0\n"
          ]
        }
      ]
    },
    {
      "cell_type": "code",
      "source": [
        "# Elimina le righe che contengono valori nulli o infiniti\n",
        "df2.dropna()\n",
        "df2[~df2.isin([np.inf, -np.inf]).any(1)]"
      ],
      "metadata": {
        "id": "p9CWnG0mvrkN",
        "colab": {
          "base_uri": "https://localhost:8080/",
          "height": 498
        },
        "outputId": "4af236ae-670d-4a9f-afa5-bc328a3b9759"
      },
      "execution_count": null,
      "outputs": [
        {
          "output_type": "execute_result",
          "data": {
            "text/plain": [
              "             Known As  Overall  Potential  Age  Height(in cm)  Weight(in kg)  \\\n",
              "0            L. Messi       91         91   35            169             67   \n",
              "1          K. Benzema       91         91   34            185             81   \n",
              "2      R. Lewandowski       91         91   33            185             81   \n",
              "3        K. De Bruyne       91         91   31            181             70   \n",
              "4           K. Mbappé       91         95   23            182             73   \n",
              "...               ...      ...        ...  ...            ...            ...   \n",
              "18534      D. Collins       47         56   21            174             68   \n",
              "18535    Yang Dejiang       47         57   17            175             60   \n",
              "18536       L. Mullan       47         67   18            170             65   \n",
              "18537    D. McCallion       47         61   17            178             65   \n",
              "18538        N. Rabha       47         50   25            176             66   \n",
              "\n",
              "       Preferred Foot  Pace Total  Shooting Total  Passing Total  \\\n",
              "0                   2          81              89             90   \n",
              "1                   1          80              88             83   \n",
              "2                   1          75              91             79   \n",
              "3                   1          74              88             93   \n",
              "4                   1          97              89             80   \n",
              "...               ...         ...             ...            ...   \n",
              "18534               1          68              48             43   \n",
              "18535               1          55              37             41   \n",
              "18536               1          64              40             49   \n",
              "18537               1          52              24             25   \n",
              "18538               2          61              29             35   \n",
              "\n",
              "       Dribbling Total  Defending Total  Physicality Total  GK Rating  ylog  \n",
              "0                   94               34                 64         22 17.80  \n",
              "1                   87               39                 78         21 17.97  \n",
              "2                   86               44                 83         22 18.25  \n",
              "3                   87               64                 77         24 18.49  \n",
              "4                   92               36                 76         21 19.07  \n",
              "...                ...              ...                ...        ...   ...  \n",
              "18534               51               31                 33         15 11.61  \n",
              "18535               47               48                 39         15 11.41  \n",
              "18536               52               37                 35         17 11.78  \n",
              "18537               32               52                 41         15 11.51  \n",
              "18538               46               44                 54         19 11.00  \n",
              "\n",
              "[18435 rows x 15 columns]"
            ],
            "text/html": [
              "\n",
              "  <div id=\"df-614f9191-5669-4c8e-bda4-39f380033694\">\n",
              "    <div class=\"colab-df-container\">\n",
              "      <div>\n",
              "<style scoped>\n",
              "    .dataframe tbody tr th:only-of-type {\n",
              "        vertical-align: middle;\n",
              "    }\n",
              "\n",
              "    .dataframe tbody tr th {\n",
              "        vertical-align: top;\n",
              "    }\n",
              "\n",
              "    .dataframe thead th {\n",
              "        text-align: right;\n",
              "    }\n",
              "</style>\n",
              "<table border=\"1\" class=\"dataframe\">\n",
              "  <thead>\n",
              "    <tr style=\"text-align: right;\">\n",
              "      <th></th>\n",
              "      <th>Known As</th>\n",
              "      <th>Overall</th>\n",
              "      <th>Potential</th>\n",
              "      <th>Age</th>\n",
              "      <th>Height(in cm)</th>\n",
              "      <th>Weight(in kg)</th>\n",
              "      <th>Preferred Foot</th>\n",
              "      <th>Pace Total</th>\n",
              "      <th>Shooting Total</th>\n",
              "      <th>Passing Total</th>\n",
              "      <th>Dribbling Total</th>\n",
              "      <th>Defending Total</th>\n",
              "      <th>Physicality Total</th>\n",
              "      <th>GK Rating</th>\n",
              "      <th>ylog</th>\n",
              "    </tr>\n",
              "  </thead>\n",
              "  <tbody>\n",
              "    <tr>\n",
              "      <th>0</th>\n",
              "      <td>L. Messi</td>\n",
              "      <td>91</td>\n",
              "      <td>91</td>\n",
              "      <td>35</td>\n",
              "      <td>169</td>\n",
              "      <td>67</td>\n",
              "      <td>2</td>\n",
              "      <td>81</td>\n",
              "      <td>89</td>\n",
              "      <td>90</td>\n",
              "      <td>94</td>\n",
              "      <td>34</td>\n",
              "      <td>64</td>\n",
              "      <td>22</td>\n",
              "      <td>17.80</td>\n",
              "    </tr>\n",
              "    <tr>\n",
              "      <th>1</th>\n",
              "      <td>K. Benzema</td>\n",
              "      <td>91</td>\n",
              "      <td>91</td>\n",
              "      <td>34</td>\n",
              "      <td>185</td>\n",
              "      <td>81</td>\n",
              "      <td>1</td>\n",
              "      <td>80</td>\n",
              "      <td>88</td>\n",
              "      <td>83</td>\n",
              "      <td>87</td>\n",
              "      <td>39</td>\n",
              "      <td>78</td>\n",
              "      <td>21</td>\n",
              "      <td>17.97</td>\n",
              "    </tr>\n",
              "    <tr>\n",
              "      <th>2</th>\n",
              "      <td>R. Lewandowski</td>\n",
              "      <td>91</td>\n",
              "      <td>91</td>\n",
              "      <td>33</td>\n",
              "      <td>185</td>\n",
              "      <td>81</td>\n",
              "      <td>1</td>\n",
              "      <td>75</td>\n",
              "      <td>91</td>\n",
              "      <td>79</td>\n",
              "      <td>86</td>\n",
              "      <td>44</td>\n",
              "      <td>83</td>\n",
              "      <td>22</td>\n",
              "      <td>18.25</td>\n",
              "    </tr>\n",
              "    <tr>\n",
              "      <th>3</th>\n",
              "      <td>K. De Bruyne</td>\n",
              "      <td>91</td>\n",
              "      <td>91</td>\n",
              "      <td>31</td>\n",
              "      <td>181</td>\n",
              "      <td>70</td>\n",
              "      <td>1</td>\n",
              "      <td>74</td>\n",
              "      <td>88</td>\n",
              "      <td>93</td>\n",
              "      <td>87</td>\n",
              "      <td>64</td>\n",
              "      <td>77</td>\n",
              "      <td>24</td>\n",
              "      <td>18.49</td>\n",
              "    </tr>\n",
              "    <tr>\n",
              "      <th>4</th>\n",
              "      <td>K. Mbappé</td>\n",
              "      <td>91</td>\n",
              "      <td>95</td>\n",
              "      <td>23</td>\n",
              "      <td>182</td>\n",
              "      <td>73</td>\n",
              "      <td>1</td>\n",
              "      <td>97</td>\n",
              "      <td>89</td>\n",
              "      <td>80</td>\n",
              "      <td>92</td>\n",
              "      <td>36</td>\n",
              "      <td>76</td>\n",
              "      <td>21</td>\n",
              "      <td>19.07</td>\n",
              "    </tr>\n",
              "    <tr>\n",
              "      <th>...</th>\n",
              "      <td>...</td>\n",
              "      <td>...</td>\n",
              "      <td>...</td>\n",
              "      <td>...</td>\n",
              "      <td>...</td>\n",
              "      <td>...</td>\n",
              "      <td>...</td>\n",
              "      <td>...</td>\n",
              "      <td>...</td>\n",
              "      <td>...</td>\n",
              "      <td>...</td>\n",
              "      <td>...</td>\n",
              "      <td>...</td>\n",
              "      <td>...</td>\n",
              "      <td>...</td>\n",
              "    </tr>\n",
              "    <tr>\n",
              "      <th>18534</th>\n",
              "      <td>D. Collins</td>\n",
              "      <td>47</td>\n",
              "      <td>56</td>\n",
              "      <td>21</td>\n",
              "      <td>174</td>\n",
              "      <td>68</td>\n",
              "      <td>1</td>\n",
              "      <td>68</td>\n",
              "      <td>48</td>\n",
              "      <td>43</td>\n",
              "      <td>51</td>\n",
              "      <td>31</td>\n",
              "      <td>33</td>\n",
              "      <td>15</td>\n",
              "      <td>11.61</td>\n",
              "    </tr>\n",
              "    <tr>\n",
              "      <th>18535</th>\n",
              "      <td>Yang Dejiang</td>\n",
              "      <td>47</td>\n",
              "      <td>57</td>\n",
              "      <td>17</td>\n",
              "      <td>175</td>\n",
              "      <td>60</td>\n",
              "      <td>1</td>\n",
              "      <td>55</td>\n",
              "      <td>37</td>\n",
              "      <td>41</td>\n",
              "      <td>47</td>\n",
              "      <td>48</td>\n",
              "      <td>39</td>\n",
              "      <td>15</td>\n",
              "      <td>11.41</td>\n",
              "    </tr>\n",
              "    <tr>\n",
              "      <th>18536</th>\n",
              "      <td>L. Mullan</td>\n",
              "      <td>47</td>\n",
              "      <td>67</td>\n",
              "      <td>18</td>\n",
              "      <td>170</td>\n",
              "      <td>65</td>\n",
              "      <td>1</td>\n",
              "      <td>64</td>\n",
              "      <td>40</td>\n",
              "      <td>49</td>\n",
              "      <td>52</td>\n",
              "      <td>37</td>\n",
              "      <td>35</td>\n",
              "      <td>17</td>\n",
              "      <td>11.78</td>\n",
              "    </tr>\n",
              "    <tr>\n",
              "      <th>18537</th>\n",
              "      <td>D. McCallion</td>\n",
              "      <td>47</td>\n",
              "      <td>61</td>\n",
              "      <td>17</td>\n",
              "      <td>178</td>\n",
              "      <td>65</td>\n",
              "      <td>1</td>\n",
              "      <td>52</td>\n",
              "      <td>24</td>\n",
              "      <td>25</td>\n",
              "      <td>32</td>\n",
              "      <td>52</td>\n",
              "      <td>41</td>\n",
              "      <td>15</td>\n",
              "      <td>11.51</td>\n",
              "    </tr>\n",
              "    <tr>\n",
              "      <th>18538</th>\n",
              "      <td>N. Rabha</td>\n",
              "      <td>47</td>\n",
              "      <td>50</td>\n",
              "      <td>25</td>\n",
              "      <td>176</td>\n",
              "      <td>66</td>\n",
              "      <td>2</td>\n",
              "      <td>61</td>\n",
              "      <td>29</td>\n",
              "      <td>35</td>\n",
              "      <td>46</td>\n",
              "      <td>44</td>\n",
              "      <td>54</td>\n",
              "      <td>19</td>\n",
              "      <td>11.00</td>\n",
              "    </tr>\n",
              "  </tbody>\n",
              "</table>\n",
              "<p>18435 rows × 15 columns</p>\n",
              "</div>\n",
              "      <button class=\"colab-df-convert\" onclick=\"convertToInteractive('df-614f9191-5669-4c8e-bda4-39f380033694')\"\n",
              "              title=\"Convert this dataframe to an interactive table.\"\n",
              "              style=\"display:none;\">\n",
              "        \n",
              "  <svg xmlns=\"http://www.w3.org/2000/svg\" height=\"24px\"viewBox=\"0 0 24 24\"\n",
              "       width=\"24px\">\n",
              "    <path d=\"M0 0h24v24H0V0z\" fill=\"none\"/>\n",
              "    <path d=\"M18.56 5.44l.94 2.06.94-2.06 2.06-.94-2.06-.94-.94-2.06-.94 2.06-2.06.94zm-11 1L8.5 8.5l.94-2.06 2.06-.94-2.06-.94L8.5 2.5l-.94 2.06-2.06.94zm10 10l.94 2.06.94-2.06 2.06-.94-2.06-.94-.94-2.06-.94 2.06-2.06.94z\"/><path d=\"M17.41 7.96l-1.37-1.37c-.4-.4-.92-.59-1.43-.59-.52 0-1.04.2-1.43.59L10.3 9.45l-7.72 7.72c-.78.78-.78 2.05 0 2.83L4 21.41c.39.39.9.59 1.41.59.51 0 1.02-.2 1.41-.59l7.78-7.78 2.81-2.81c.8-.78.8-2.07 0-2.86zM5.41 20L4 18.59l7.72-7.72 1.47 1.35L5.41 20z\"/>\n",
              "  </svg>\n",
              "      </button>\n",
              "      \n",
              "  <style>\n",
              "    .colab-df-container {\n",
              "      display:flex;\n",
              "      flex-wrap:wrap;\n",
              "      gap: 12px;\n",
              "    }\n",
              "\n",
              "    .colab-df-convert {\n",
              "      background-color: #E8F0FE;\n",
              "      border: none;\n",
              "      border-radius: 50%;\n",
              "      cursor: pointer;\n",
              "      display: none;\n",
              "      fill: #1967D2;\n",
              "      height: 32px;\n",
              "      padding: 0 0 0 0;\n",
              "      width: 32px;\n",
              "    }\n",
              "\n",
              "    .colab-df-convert:hover {\n",
              "      background-color: #E2EBFA;\n",
              "      box-shadow: 0px 1px 2px rgba(60, 64, 67, 0.3), 0px 1px 3px 1px rgba(60, 64, 67, 0.15);\n",
              "      fill: #174EA6;\n",
              "    }\n",
              "\n",
              "    [theme=dark] .colab-df-convert {\n",
              "      background-color: #3B4455;\n",
              "      fill: #D2E3FC;\n",
              "    }\n",
              "\n",
              "    [theme=dark] .colab-df-convert:hover {\n",
              "      background-color: #434B5C;\n",
              "      box-shadow: 0px 1px 3px 1px rgba(0, 0, 0, 0.15);\n",
              "      filter: drop-shadow(0px 1px 2px rgba(0, 0, 0, 0.3));\n",
              "      fill: #FFFFFF;\n",
              "    }\n",
              "  </style>\n",
              "\n",
              "      <script>\n",
              "        const buttonEl =\n",
              "          document.querySelector('#df-614f9191-5669-4c8e-bda4-39f380033694 button.colab-df-convert');\n",
              "        buttonEl.style.display =\n",
              "          google.colab.kernel.accessAllowed ? 'block' : 'none';\n",
              "\n",
              "        async function convertToInteractive(key) {\n",
              "          const element = document.querySelector('#df-614f9191-5669-4c8e-bda4-39f380033694');\n",
              "          const dataTable =\n",
              "            await google.colab.kernel.invokeFunction('convertToInteractive',\n",
              "                                                     [key], {});\n",
              "          if (!dataTable) return;\n",
              "\n",
              "          const docLinkHtml = 'Like what you see? Visit the ' +\n",
              "            '<a target=\"_blank\" href=https://colab.research.google.com/notebooks/data_table.ipynb>data table notebook</a>'\n",
              "            + ' to learn more about interactive tables.';\n",
              "          element.innerHTML = '';\n",
              "          dataTable['output_type'] = 'display_data';\n",
              "          await google.colab.output.renderOutput(dataTable, element);\n",
              "          const docLink = document.createElement('div');\n",
              "          docLink.innerHTML = docLinkHtml;\n",
              "          element.appendChild(docLink);\n",
              "        }\n",
              "      </script>\n",
              "    </div>\n",
              "  </div>\n",
              "  "
            ]
          },
          "metadata": {},
          "execution_count": 151
        }
      ]
    },
    {
      "cell_type": "code",
      "source": [
        "y2 = df2.iloc[:,14]\n",
        "X2 = df2.iloc[:, 1:13]\n",
        "\n",
        "# splittiamo di nuovo il dataset perchè abbiamo cancellato alcune righe e abbiamo trasformato la variabile y \n",
        "\n",
        "X_train2, X_test2, y_train2, y_test2 = train_test_split(X2, y2, test_size=0.25, random_state=55)\n",
        "\n",
        "print(f'Traning Data Shape: {X_train2.shape,y_train2.shape} ,TEST Data Shape:{X_test2.shape,y_test2.shape}')"
      ],
      "metadata": {
        "id": "9xSjGt-EzACr",
        "colab": {
          "base_uri": "https://localhost:8080/"
        },
        "outputId": "248edd77-0316-4be0-a17e-68b147afa7db"
      },
      "execution_count": null,
      "outputs": [
        {
          "output_type": "stream",
          "name": "stdout",
          "text": [
            "Traning Data Shape: ((13826, 12), (13826,)) ,TEST Data Shape:((4609, 12), (4609,))\n"
          ]
        }
      ]
    },
    {
      "cell_type": "markdown",
      "source": [
        "again through sk-learn we estimate the new model, and use statsmodel to get a more detailed summary:"
      ],
      "metadata": {
        "id": "fBDw7_S-KLsJ"
      }
    },
    {
      "cell_type": "code",
      "source": [
        "#modello 2 con sklearn\n",
        "\n",
        "model2 = LinearRegression()\n",
        "\n",
        "model2.fit(X_train2, y_train2)\n",
        "\n",
        "y_pred2 = model2.predict(X_test2)"
      ],
      "metadata": {
        "id": "lut6gjc0zb10"
      },
      "execution_count": null,
      "outputs": []
    },
    {
      "cell_type": "code",
      "source": [
        "#visto che sklearn non ha un summary usiamo stasmodel\n",
        "\n",
        "from statsmodels.regression.linear_model import OLS\n",
        "model2_sm = OLS(y_train2, X_train2)\n",
        "results = model2_sm.fit()\n",
        "print(results.summary())"
      ],
      "metadata": {
        "colab": {
          "base_uri": "https://localhost:8080/"
        },
        "id": "nBRnZN0Ixcgu",
        "outputId": "f5ff9ffa-b080-4144-9e87-1b6d981f08db"
      },
      "execution_count": null,
      "outputs": [
        {
          "output_type": "stream",
          "name": "stdout",
          "text": [
            "                                 OLS Regression Results                                \n",
            "=======================================================================================\n",
            "Dep. Variable:                   ylog   R-squared (uncentered):                   1.000\n",
            "Model:                            OLS   Adj. R-squared (uncentered):              1.000\n",
            "Method:                 Least Squares   F-statistic:                          3.141e+06\n",
            "Date:                Thu, 12 Jan 2023   Prob (F-statistic):                        0.00\n",
            "Time:                        20:42:25   Log-Likelihood:                         -1361.1\n",
            "No. Observations:               13826   AIC:                                      2746.\n",
            "Df Residuals:                   13814   BIC:                                      2837.\n",
            "Df Model:                          12                                                  \n",
            "Covariance Type:            nonrobust                                                  \n",
            "=====================================================================================\n",
            "                        coef    std err          t      P>|t|      [0.025      0.975]\n",
            "-------------------------------------------------------------------------------------\n",
            "Overall               0.1856      0.001    175.321      0.000       0.184       0.188\n",
            "Potential             0.0153      0.001     17.979      0.000       0.014       0.017\n",
            "Age                  -0.1004      0.001   -107.466      0.000      -0.102      -0.099\n",
            "Height(in cm)         0.0197      0.000     65.072      0.000       0.019       0.020\n",
            "Weight(in kg)        -0.0106      0.001    -20.417      0.000      -0.012      -0.010\n",
            "Preferred Foot        0.0104      0.005      1.934      0.053      -0.000       0.021\n",
            "Pace Total            0.0057      0.000     21.016      0.000       0.005       0.006\n",
            "Shooting Total        0.0019      0.000      5.306      0.000       0.001       0.003\n",
            "Passing Total        -0.0035      0.001     -6.350      0.000      -0.005      -0.002\n",
            "Dribbling Total       0.0021      0.001      3.053      0.002       0.001       0.003\n",
            "Defending Total       0.0022      0.000      8.344      0.000       0.002       0.003\n",
            "Physicality Total    -0.0032      0.000     -7.769      0.000      -0.004      -0.002\n",
            "==============================================================================\n",
            "Omnibus:                     3138.079   Durbin-Watson:                   2.013\n",
            "Prob(Omnibus):                  0.000   Jarque-Bera (JB):            15713.418\n",
            "Skew:                          -1.009   Prob(JB):                         0.00\n",
            "Kurtosis:                       7.817   Cond. No.                         628.\n",
            "==============================================================================\n",
            "\n",
            "Notes:\n",
            "[1] R² is computed without centering (uncentered) since the model does not contain a constant.\n",
            "[2] Standard Errors assume that the covariance matrix of the errors is correctly specified.\n"
          ]
        }
      ]
    },
    {
      "cell_type": "code",
      "source": [
        "# MSE\n",
        "\n",
        "from sklearn.metrics import mean_absolute_error, mean_squared_error, r2_score\n",
        "\n",
        "\n",
        "MSE_ylog= mean_squared_error(y_test2, y_pred2)\n",
        "print(MSE_ylog)"
      ],
      "metadata": {
        "colab": {
          "base_uri": "https://localhost:8080/"
        },
        "id": "bR5D69ZbLShQ",
        "outputId": "a24b3338-f8a6-4646-870f-137342c383f5"
      },
      "execution_count": null,
      "outputs": [
        {
          "output_type": "stream",
          "name": "stdout",
          "text": [
            "0.059397394758334804\n"
          ]
        }
      ]
    },
    {
      "cell_type": "markdown",
      "source": [
        "we can analyze the table shown above:\n",
        "\n",
        "we get a significantly better R^2 and MSE so by increasing the complexity of the model obviously this will better describe our data (later we will do a check on the generalization ability of this model, which turns out to be a very important feature to evaluate).\n",
        "\n",
        "Looking at the weights/coefficients (theta) of our regressors we observe some noteworthy results:\n",
        "\n",
        "age turns out to have a negative impact, meaning that as age increases a player will tend to lose value (quite logical)\n",
        "we observe the same result for weight (obviously). \n",
        "\n",
        "The surprising result, on the other hand, concerns a player's passing skills, which negatively impact our y. This result, however, is consistent with what we observed for dribling (postively correlated) leaving us to guess, as seen above, that our model tends to prefer players who are more individualistic tactically.\n",
        "The variable with the greatest impact, however, is player pace. Players with a higher intensity of play will have higher value.\n"
      ],
      "metadata": {
        "id": "qaeQzek0Kuq2"
      }
    },
    {
      "cell_type": "code",
      "source": [
        "#learning curves \n",
        "\n",
        "from sklearn.model_selection import learning_curve\n",
        "train_sizes, train_scores, val_scores = learning_curve(model2, X_train2, y_train2, cv=5)\n",
        "\n",
        "import matplotlib.pyplot as plt\n",
        "\n",
        "plt.figure()\n",
        "plt.title(\"Learning Curves\")\n",
        "plt.xlabel(\"Training examples\")\n",
        "plt.ylabel(\"Score\")\n",
        "\n",
        "train_scores_mean = np.mean(train_scores, axis=1)\n",
        "train_scores_std = np.std(train_scores, axis=1)\n",
        "val_scores_mean = np.mean(val_scores, axis=1)\n",
        "val_scores_std = np.std(val_scores, axis=1)\n",
        "plt.grid()\n",
        "\n",
        "plt.fill_between(train_sizes, train_scores_mean - train_scores_std, train_scores_mean + train_scores_std, alpha=0.1,\n",
        "                 color=\"r\")\n",
        "plt.fill_between(train_sizes, val_scores_mean - val_scores_std, val_scores_mean + val_scores_std, alpha=0.1, color=\"g\")\n",
        "plt.plot(train_sizes, train_scores_mean, 'o-', color=\"r\", label=\"Training score\")\n",
        "plt.plot(train_sizes, val_scores_mean, 'o-', color=\"g\", label=\"Cross-validation score\")\n",
        "plt.legend(loc=\"best\")\n",
        "plt.show()\n"
      ],
      "metadata": {
        "colab": {
          "base_uri": "https://localhost:8080/",
          "height": 315
        },
        "id": "7ef7IfAWz_CF",
        "outputId": "52d6898c-b072-4a7e-d661-9e70c04225bc"
      },
      "execution_count": null,
      "outputs": [
        {
          "output_type": "display_data",
          "data": {
            "text/plain": [
              "<Figure size 432x288 with 1 Axes>"
            ],
            "image/png": "[encoded data removed]"
          },
          "metadata": {
            "needs_background": "light"
          }
        }
      ]
    },
    {
      "cell_type": "markdown",
      "source": [
        "The graph above shows the learning curves of our model, which express the MSEs of our model on the train and test set as a function of sample numerosity. \n",
        "these are a great way to graphically visualize the bias|variance trade off. \n",
        "Obviously at first, for fewer observations, there will be a larger variance between the two MSEs, indicating that with little data the model does not generalize well. As the numerosity increases, the two lines get closer and reach a plateau, at a very good level of MSE, indicating that our model generalizes well and has no bias rigurd the wrong choice of model. "
      ],
      "metadata": {
        "id": "2Z7TM0q9OXsM"
      }
    },
    {
      "cell_type": "markdown",
      "source": [
        "**SEZIONE 4**\n",
        "\n",
        "in this section, polynomial regression will be introduced to complete our analysis, although the results achieved are satisfactory. the idea of this type of regression is to be able to linearly explain a dataset that does not turn out to have a linear relationship, by including the squared regressors and their interactions.\n",
        "\n",
        "a polynomial regression of degree 2,3,4 will be done, and after comparing the R^2 and the MSE, the one deemed most suitable will be chosen."
      ],
      "metadata": {
        "id": "3AWPy0QHPUm1"
      }
    },
    {
      "cell_type": "markdown",
      "source": [
        "**POLYNOMIAL REGRESSION**"
      ],
      "metadata": {
        "id": "hgL0j2tx1WxH"
      }
    },
    {
      "cell_type": "code",
      "source": [
        "#POLYNOMIAL REGRESSION, CREANDO LISTA CON MSE E R^2 DI TEST E TRAIN PER CONFRONTARLI\n",
        "MSE = []\n",
        "R2 = []\n",
        "MSE_train = []\n",
        "R2_train = []\n",
        "\n",
        "for i in range(1,5):\n",
        "   \n",
        "    poly = PolynomialFeatures(degree=i)\n",
        "\n",
        "    X_train_poly = poly.fit_transform(X_train2)\n",
        "\n",
        "   \n",
        "    model3 = LinearRegression()\n",
        "\n",
        "\n",
        "    model3.fit(X_train_poly, y_train2)\n",
        "\n",
        "\n",
        "    X_test_poly = poly.transform(X_test2)\n",
        "\n",
        "   \n",
        "    y_pred3 = model3.predict(X_test_poly)\n",
        "\n",
        "   \n",
        "    MSE.append(mean_squared_error(y_test2, y_pred3))\n",
        "    R2.append(r2_score(y_test2, y_pred3))\n",
        "    \n",
        " \n",
        "    MSE_train.append(mean_squared_error(y_train2, model3.predict(X_train_poly)))\n",
        "    R2_train.append(r2_score(y_train2, model3.predict(X_train_poly)))\n",
        "\n",
        "\n"
      ],
      "metadata": {
        "id": "htpy61DDmYAV"
      },
      "execution_count": null,
      "outputs": []
    },
    {
      "cell_type": "code",
      "source": [
        "metrics = {'degree': list(range(1,5)),\n",
        "           'MSE': MSE,\n",
        "           'R2': R2,\n",
        "           'MSE_train': MSE_train,\n",
        "           'R2_train': R2_train}\n",
        "\n",
        "\n",
        "metrics_df = pd.DataFrame(metrics)\n",
        "\n",
        "\n",
        "print(metrics_df)\n"
      ],
      "metadata": {
        "id": "D7mFVY70qhf4",
        "colab": {
          "base_uri": "https://localhost:8080/"
        },
        "outputId": "fcf4a260-6723-4512-842b-1c36a7392f6f"
      },
      "execution_count": null,
      "outputs": [
        {
          "output_type": "stream",
          "name": "stdout",
          "text": [
            "   degree       MSE        R2  MSE_train  R2_train\n",
            "0       1  0.059397  0.960836   0.056844  0.962584\n",
            "1       2  0.025818  0.982977   0.025048  0.983513\n",
            "2       3  0.022256  0.985326   0.020077  0.986785\n",
            "3       4  0.019127  0.987389   0.012779  0.991589\n"
          ]
        }
      ]
    },
    {
      "cell_type": "markdown",
      "source": [
        "\n",
        "in the table we can see the MSE for the training and test set for each degree of our polynomial regression.\n",
        "\n",
        "Comparing the results obtained we see that these are all very similar, but the third degree seems to be the degree to have a trade off between explanation of the data and generalization of the best model."
      ],
      "metadata": {
        "id": "pofBsReYQn7A"
      }
    },
    {
      "cell_type": "markdown",
      "source": [
        "**SEZIONE 5**\n",
        "\n",
        "In this section, (for clarity of analysis) we will try to implement a regularized regression (both ridge and lasso) in order to reduce the (already very low) overfitting of our polynomial regression model. the idea of this type of regression in fact is precisely to manipulate the weights of the polynomial regression (via the alpha hyperparameter) pushing them to be lower. "
      ],
      "metadata": {
        "id": "fbYCQyO2RE07"
      }
    },
    {
      "cell_type": "markdown",
      "source": [
        "**regularized regression**\n",
        "\n",
        "\n"
      ],
      "metadata": {
        "id": "pnvw69diq1NH"
      }
    },
    {
      "cell_type": "markdown",
      "source": [
        "**LASSO**"
      ],
      "metadata": {
        "id": "MhaslNfr2xZH"
      }
    },
    {
      "cell_type": "code",
      "source": [
        "#lasso \n",
        "\n",
        "from sklearn.linear_model import Lasso\n",
        "lasso_reg = Lasso(alpha=0.1)\n",
        "lasso_reg.fit(X_train_poly, y_train2)\n",
        "y_pred_lasso = lasso_reg.predict(X_test_poly)\n"
      ],
      "metadata": {
        "id": "pXsjQpaY6x6W",
        "colab": {
          "base_uri": "https://localhost:8080/"
        },
        "outputId": "2b268adc-e997-4f98-ee60-a7cc80bdebcc"
      },
      "execution_count": null,
      "outputs": [
        {
          "output_type": "stream",
          "name": "stderr",
          "text": [
            "/usr/local/lib/python3.8/dist-packages/sklearn/linear_model/_coordinate_descent.py:647: ConvergenceWarning: Objective did not converge. You might want to increase the number of iterations, check the scale of the features or consider increasing regularisation. Duality gap: 1.795e+02, tolerance: 2.100e+00\n",
            "  model = cd_fast.enet_coordinate_descent(\n"
          ]
        }
      ]
    },
    {
      "cell_type": "code",
      "source": [
        "#mse e r^2 lasso\n",
        "\n",
        "from sklearn.metrics import mean_absolute_error, mean_squared_error, r2_score\n",
        "\n",
        "\n",
        "MSE_lasso= mean_squared_error(y_test2, y_pred_lasso)\n",
        "R2_lasso= r2_score(y_test2, y_pred_lasso)\n",
        "\n",
        "print(R2_lasso,MSE_lasso)"
      ],
      "metadata": {
        "colab": {
          "base_uri": "https://localhost:8080/"
        },
        "id": "KjHhklZp2jY9",
        "outputId": "5938a9b0-771f-4d41-8404-48ee8f86d240"
      },
      "execution_count": null,
      "outputs": [
        {
          "output_type": "stream",
          "name": "stdout",
          "text": [
            "0.9824268286883115 0.026652030353289304\n"
          ]
        }
      ]
    },
    {
      "cell_type": "markdown",
      "source": [
        "**RIDGE**"
      ],
      "metadata": {
        "id": "fmYU9syA20xP"
      }
    },
    {
      "cell_type": "code",
      "source": [
        "#ridge \n",
        "from sklearn.linear_model import Ridge\n",
        "ridge_reg = Ridge(alpha=0.1)\n",
        "ridge_reg.fit(X_train_poly, y_train2)\n",
        "y_pred_ridge = ridge_reg.predict(X_test_poly)"
      ],
      "metadata": {
        "colab": {
          "base_uri": "https://localhost:8080/"
        },
        "id": "xc1opIQx22le",
        "outputId": "bec4c7b6-12db-4226-c863-8ce65a826847"
      },
      "execution_count": null,
      "outputs": [
        {
          "output_type": "stream",
          "name": "stderr",
          "text": [
            "/usr/local/lib/python3.8/dist-packages/sklearn/linear_model/_ridge.py:157: LinAlgWarning: Ill-conditioned matrix (rcond=1.0576e-23): result may not be accurate.\n",
            "  return linalg.solve(A, Xy, sym_pos=True, overwrite_a=True).T\n"
          ]
        }
      ]
    },
    {
      "cell_type": "code",
      "source": [
        "#r^2 e mse ridge\n",
        "MSE_ridge= mean_squared_error(y_test2, y_pred_ridge)\n",
        "R2_ridge = r2_score(y_test2, y_pred_ridge)\n",
        "\n",
        "print(MSE_ridge,R2_ridge)"
      ],
      "metadata": {
        "colab": {
          "base_uri": "https://localhost:8080/"
        },
        "id": "fCNVw9KR3HvB",
        "outputId": "00ac2557-9021-4220-9c1e-d324738fda68"
      },
      "execution_count": null,
      "outputs": [
        {
          "output_type": "stream",
          "name": "stdout",
          "text": [
            "0.019427697810002004 0.9871902343918522\n"
          ]
        }
      ]
    },
    {
      "cell_type": "markdown",
      "source": [
        "he isults obtained are very similar, however, the MSE of the ridge turns out to be lower so we continue with this approach. "
      ],
      "metadata": {
        "id": "LiA9aTOd99a5"
      }
    },
    {
      "cell_type": "code",
      "source": [
        "#analisi residui \n",
        "from scipy.stats import probplot\n",
        "\n",
        "residuals= y_pred_ridge-y_test2\n",
        "\n",
        "_, (ax1) = plt.subplots(1, 1, figsize=(6, 6))\n",
        "probplot(residuals, plot=ax1)\n",
        "plt.show()\n"
      ],
      "metadata": {
        "colab": {
          "base_uri": "https://localhost:8080/",
          "height": 425
        },
        "id": "ClIGIYbL_1M5",
        "outputId": "57ffce48-74a5-4f34-9cba-78ac22602c24"
      },
      "execution_count": null,
      "outputs": [
        {
          "output_type": "display_data",
          "data": {
            "text/plain": [
              "<Figure size 432x432 with 1 Axes>"
            ],
            "image/png": "[encoded data removed]"
          },
          "metadata": {
            "needs_background": "light"
          }
        }
      ]
    },
    {
      "cell_type": "markdown",
      "source": [
        "Analyzing the Q-Q plot of the residuals we notice the presence of some outliers, but despite this they are \"pretty linear,\" so our model fits our data well.\n",
        "\n",
        "\n"
      ],
      "metadata": {
        "id": "pmP6jfUnAC0E"
      }
    },
    {
      "cell_type": "markdown",
      "source": [
        "***SECTION 6 (ANALYSIS OF RESULTS)***\n",
        "\n",
        "at this point a ridge regression model has been selected, in this last section we will analyze the results obtained in the following order:\n",
        "final analysis\n",
        "predicted vs original value\n",
        "\n"
      ],
      "metadata": {
        "id": "-YrzhuEkSrmb"
      }
    },
    {
      "cell_type": "markdown",
      "source": [
        "\n",
        "\n",
        "in this last part, we will proceed to return the variable y to its original form and to comment on the reuslts."
      ],
      "metadata": {
        "id": "CY3KT_xrUOU5"
      }
    },
    {
      "cell_type": "code",
      "source": [
        "originalyTRAIN=np.exp(y_train2)\n",
        "originalyTEST=np.exp(y_test2)\n",
        "\n",
        "print(originalyTRAIN)\n",
        "\n",
        "\n"
      ],
      "metadata": {
        "colab": {
          "base_uri": "https://localhost:8080/"
        },
        "id": "Y2xk0FlACt2v",
        "outputId": "b4a3d96f-c007-4c10-a098-122d4373f0f2"
      },
      "execution_count": null,
      "outputs": [
        {
          "output_type": "stream",
          "name": "stdout",
          "text": [
            "14477     475,000.00\n",
            "13975     425,000.00\n",
            "11220     725,000.00\n",
            "3868    1,800,000.00\n",
            "15047     325,000.00\n",
            "            ...     \n",
            "15259     250,000.00\n",
            "10294   1,500,000.00\n",
            "16353     325,000.00\n",
            "17455     240,000.00\n",
            "4815    2,300,000.00\n",
            "Name: ylog, Length: 13826, dtype: float64\n"
          ]
        }
      ]
    },
    {
      "cell_type": "code",
      "source": [
        "#ridge con y originale\n",
        "from sklearn.linear_model import Ridge\n",
        "ridge_reg2 = Ridge(alpha=0.1)\n",
        "ridge_reg2.fit(X_train_poly, originalyTRAIN)\n",
        "y_pred_ridge2 = ridge_reg2.predict(X_test_poly)\n",
        "\n"
      ],
      "metadata": {
        "colab": {
          "base_uri": "https://localhost:8080/"
        },
        "id": "nLoFIqaEC54T",
        "outputId": "e30bed98-73b8-4277-a338-6356e44bb03a"
      },
      "execution_count": null,
      "outputs": [
        {
          "output_type": "stream",
          "name": "stderr",
          "text": [
            "/usr/local/lib/python3.8/dist-packages/sklearn/linear_model/_ridge.py:157: LinAlgWarning: Ill-conditioned matrix (rcond=1.0576e-23): result may not be accurate.\n",
            "  return linalg.solve(A, Xy, sym_pos=True, overwrite_a=True).T\n"
          ]
        }
      ]
    },
    {
      "cell_type": "code",
      "source": [
        "MSE_ridge2= mean_squared_error(originalyTEST, y_pred_ridge2)\n",
        "R2_ridge2 = r2_score(originalyTEST, y_pred_ridge2)\n",
        "\n",
        "print(MSE_ridge,R2_ridge)"
      ],
      "metadata": {
        "colab": {
          "base_uri": "https://localhost:8080/"
        },
        "id": "m9GIQjRDDDrP",
        "outputId": "e8a3d7c5-9385-4d36-e834-69a9d4068531"
      },
      "execution_count": null,
      "outputs": [
        {
          "output_type": "stream",
          "name": "stdout",
          "text": [
            "0.019427697810002004 0.9871902343918522\n"
          ]
        }
      ]
    },
    {
      "cell_type": "markdown",
      "source": [
        "from the MSE and R^2 of our model we observe that although the y has been returned to its original form, our model is still able to describe them very well. "
      ],
      "metadata": {
        "id": "rrph2qCIDb7D"
      }
    },
    {
      "cell_type": "markdown",
      "source": [
        "**predicted vs original**"
      ],
      "metadata": {
        "id": "zFndom7VVNh3"
      }
    },
    {
      "cell_type": "code",
      "source": [
        "#orig vs predict\n",
        "df4 = pd.DataFrame({'original': originalyTEST, \n",
        "                    'predicted': y_pred_ridge2})\n",
        "\n",
        "print(df4)"
      ],
      "metadata": {
        "colab": {
          "base_uri": "https://localhost:8080/"
        },
        "id": "KN8V93_O5rae",
        "outputId": "bc5b27d5-fdf7-43ae-de11-05f7f128880f"
      },
      "execution_count": null,
      "outputs": [
        {
          "output_type": "stream",
          "name": "stdout",
          "text": [
            "           original     predicted\n",
            "17145    150,000.00   -220,240.51\n",
            "1736   6,000,000.00  3,671,510.66\n",
            "16390    450,000.00    431,822.84\n",
            "60    68,500,000.00 62,830,045.38\n",
            "5016   1,800,000.00  1,184,280.35\n",
            "...             ...           ...\n",
            "12917    500,000.00    -97,203.29\n",
            "6587   2,300,000.00  1,545,390.43\n",
            "275   30,000,000.00 25,519,748.93\n",
            "13897    550,000.00    833,797.90\n",
            "4486   1,700,000.00  1,431,722.47\n",
            "\n",
            "[4609 rows x 2 columns]\n"
          ]
        }
      ]
    },
    {
      "cell_type": "code",
      "source": [
        "np.set_printoptions(precision=16)\n",
        "df4['predicted'] = df4['predicted'].round(2)\n",
        "np.set_printoptions(precision=16)\n",
        "\n",
        "pd.options.display.float_format = '{:,.2f}'.format\n"
      ],
      "metadata": {
        "id": "WUV8PwQZ6yIw"
      },
      "execution_count": null,
      "outputs": []
    },
    {
      "cell_type": "code",
      "source": [
        "colonna_1 = df0.iloc[:, 0]\n",
        "\n",
        "(colonna_1).head(50)"
      ],
      "metadata": {
        "colab": {
          "base_uri": "https://localhost:8080/"
        },
        "id": "MtGDThnf-vJ2",
        "outputId": "9e3e5f43-8655-4531-f73e-3c9155697577"
      },
      "execution_count": null,
      "outputs": [
        {
          "output_type": "execute_result",
          "data": {
            "text/plain": [
              "0                L. Messi\n",
              "1              K. Benzema\n",
              "2          R. Lewandowski\n",
              "3            K. De Bruyne\n",
              "4               K. Mbappé\n",
              "5                M. Salah\n",
              "6             T. Courtois\n",
              "7                M. Neuer\n",
              "8       Cristiano Ronaldo\n",
              "9             V. van Dijk\n",
              "10                H. Kane\n",
              "11              Neymar Jr\n",
              "12                 H. Son\n",
              "13               Casemiro\n",
              "14               J. Oblak\n",
              "15                S. Mané\n",
              "16                Ederson\n",
              "17             J. Kimmich\n",
              "18                Alisson\n",
              "19               N. Kanté\n",
              "20             Rúben Dias\n",
              "21             E. Haaland\n",
              "22          G. Donnarumma\n",
              "23         Bernardo Silva\n",
              "24           João Cancelo\n",
              "25             Marquinhos\n",
              "26               K. Navas\n",
              "27          M. ter Stegen\n",
              "28               T. Kroos\n",
              "29              L. Modrić\n",
              "30             A. Rüdiger\n",
              "31                  Rodri\n",
              "32                Fabinho\n",
              "33              H. Lloris\n",
              "34              T. Müller\n",
              "35                 De Gea\n",
              "36            M. Verratti\n",
              "37             M. Maignan\n",
              "38    T. Alexander-Arnold\n",
              "39           A. Robertson\n",
              "40           K. Koulibaly\n",
              "41            L. Goretzka\n",
              "42             F. de Jong\n",
              "43                 Thiago\n",
              "44            C. Immobile\n",
              "45              R. Lukaku\n",
              "46               D. Alaba\n",
              "47            R. Sterling\n",
              "48              R. Mahrez\n",
              "49              P. Dybala\n",
              "Name: Known As, dtype: object"
            ]
          },
          "metadata": {},
          "execution_count": 165
        }
      ]
    },
    {
      "cell_type": "code",
      "source": [
        "\n",
        "df4.head(50)\n",
        "df4.sort_index()"
      ],
      "metadata": {
        "colab": {
          "base_uri": "https://localhost:8080/",
          "height": 648
        },
        "id": "dv1n1Qkl-ext",
        "outputId": "6804dd95-1531-4211-e106-7554bec9adf8"
      },
      "execution_count": null,
      "outputs": [
        {
          "output_type": "execute_result",
          "data": {
            "text/plain": [
              "            original      predicted\n",
              "0      54,000,000.00  72,899,575.78\n",
              "2      84,000,000.00  90,101,312.80\n",
              "12    101,000,000.00 101,473,063.12\n",
              "15     99,500,000.00  88,742,051.55\n",
              "18     79,000,000.00  82,351,206.91\n",
              "...              ...            ...\n",
              "18517      70,000.00   1,209,248.18\n",
              "18521     100,000.00     -17,938.29\n",
              "18525     120,000.00  -1,339,046.40\n",
              "18527     110,000.00    -781,737.90\n",
              "18531      70,000.00   1,342,912.52\n",
              "\n",
              "[4609 rows x 2 columns]"
            ],
            "text/html": [
              "\n",
              "  <div id=\"df-eae2396d-6791-465c-8eb5-d2fc60fff932\">\n",
              "    <div class=\"colab-df-container\">\n",
              "      <div>\n",
              "<style scoped>\n",
              "    .dataframe tbody tr th:only-of-type {\n",
              "        vertical-align: middle;\n",
              "    }\n",
              "\n",
              "    .dataframe tbody tr th {\n",
              "        vertical-align: top;\n",
              "    }\n",
              "\n",
              "    .dataframe thead th {\n",
              "        text-align: right;\n",
              "    }\n",
              "</style>\n",
              "<table border=\"1\" class=\"dataframe\">\n",
              "  <thead>\n",
              "    <tr style=\"text-align: right;\">\n",
              "      <th></th>\n",
              "      <th>original</th>\n",
              "      <th>predicted</th>\n",
              "    </tr>\n",
              "  </thead>\n",
              "  <tbody>\n",
              "    <tr>\n",
              "      <th>0</th>\n",
              "      <td>54,000,000.00</td>\n",
              "      <td>72,899,575.78</td>\n",
              "    </tr>\n",
              "    <tr>\n",
              "      <th>2</th>\n",
              "      <td>84,000,000.00</td>\n",
              "      <td>90,101,312.80</td>\n",
              "    </tr>\n",
              "    <tr>\n",
              "      <th>12</th>\n",
              "      <td>101,000,000.00</td>\n",
              "      <td>101,473,063.12</td>\n",
              "    </tr>\n",
              "    <tr>\n",
              "      <th>15</th>\n",
              "      <td>99,500,000.00</td>\n",
              "      <td>88,742,051.55</td>\n",
              "    </tr>\n",
              "    <tr>\n",
              "      <th>18</th>\n",
              "      <td>79,000,000.00</td>\n",
              "      <td>82,351,206.91</td>\n",
              "    </tr>\n",
              "    <tr>\n",
              "      <th>...</th>\n",
              "      <td>...</td>\n",
              "      <td>...</td>\n",
              "    </tr>\n",
              "    <tr>\n",
              "      <th>18517</th>\n",
              "      <td>70,000.00</td>\n",
              "      <td>1,209,248.18</td>\n",
              "    </tr>\n",
              "    <tr>\n",
              "      <th>18521</th>\n",
              "      <td>100,000.00</td>\n",
              "      <td>-17,938.29</td>\n",
              "    </tr>\n",
              "    <tr>\n",
              "      <th>18525</th>\n",
              "      <td>120,000.00</td>\n",
              "      <td>-1,339,046.40</td>\n",
              "    </tr>\n",
              "    <tr>\n",
              "      <th>18527</th>\n",
              "      <td>110,000.00</td>\n",
              "      <td>-781,737.90</td>\n",
              "    </tr>\n",
              "    <tr>\n",
              "      <th>18531</th>\n",
              "      <td>70,000.00</td>\n",
              "      <td>1,342,912.52</td>\n",
              "    </tr>\n",
              "  </tbody>\n",
              "</table>\n",
              "<p>4609 rows × 2 columns</p>\n",
              "</div>\n",
              "      <button class=\"colab-df-convert\" onclick=\"convertToInteractive('df-eae2396d-6791-465c-8eb5-d2fc60fff932')\"\n",
              "              title=\"Convert this dataframe to an interactive table.\"\n",
              "              style=\"display:none;\">\n",
              "        \n",
              "  <svg xmlns=\"http://www.w3.org/2000/svg\" height=\"24px\"viewBox=\"0 0 24 24\"\n",
              "       width=\"24px\">\n",
              "    <path d=\"M0 0h24v24H0V0z\" fill=\"none\"/>\n",
              "    <path d=\"M18.56 5.44l.94 2.06.94-2.06 2.06-.94-2.06-.94-.94-2.06-.94 2.06-2.06.94zm-11 1L8.5 8.5l.94-2.06 2.06-.94-2.06-.94L8.5 2.5l-.94 2.06-2.06.94zm10 10l.94 2.06.94-2.06 2.06-.94-2.06-.94-.94-2.06-.94 2.06-2.06.94z\"/><path d=\"M17.41 7.96l-1.37-1.37c-.4-.4-.92-.59-1.43-.59-.52 0-1.04.2-1.43.59L10.3 9.45l-7.72 7.72c-.78.78-.78 2.05 0 2.83L4 21.41c.39.39.9.59 1.41.59.51 0 1.02-.2 1.41-.59l7.78-7.78 2.81-2.81c.8-.78.8-2.07 0-2.86zM5.41 20L4 18.59l7.72-7.72 1.47 1.35L5.41 20z\"/>\n",
              "  </svg>\n",
              "      </button>\n",
              "      \n",
              "  <style>\n",
              "    .colab-df-container {\n",
              "      display:flex;\n",
              "      flex-wrap:wrap;\n",
              "      gap: 12px;\n",
              "    }\n",
              "\n",
              "    .colab-df-convert {\n",
              "      background-color: #E8F0FE;\n",
              "      border: none;\n",
              "      border-radius: 50%;\n",
              "      cursor: pointer;\n",
              "      display: none;\n",
              "      fill: #1967D2;\n",
              "      height: 32px;\n",
              "      padding: 0 0 0 0;\n",
              "      width: 32px;\n",
              "    }\n",
              "\n",
              "    .colab-df-convert:hover {\n",
              "      background-color: #E2EBFA;\n",
              "      box-shadow: 0px 1px 2px rgba(60, 64, 67, 0.3), 0px 1px 3px 1px rgba(60, 64, 67, 0.15);\n",
              "      fill: #174EA6;\n",
              "    }\n",
              "\n",
              "    [theme=dark] .colab-df-convert {\n",
              "      background-color: #3B4455;\n",
              "      fill: #D2E3FC;\n",
              "    }\n",
              "\n",
              "    [theme=dark] .colab-df-convert:hover {\n",
              "      background-color: #434B5C;\n",
              "      box-shadow: 0px 1px 3px 1px rgba(0, 0, 0, 0.15);\n",
              "      filter: drop-shadow(0px 1px 2px rgba(0, 0, 0, 0.3));\n",
              "      fill: #FFFFFF;\n",
              "    }\n",
              "  </style>\n",
              "\n",
              "      <script>\n",
              "        const buttonEl =\n",
              "          document.querySelector('#df-eae2396d-6791-465c-8eb5-d2fc60fff932 button.colab-df-convert');\n",
              "        buttonEl.style.display =\n",
              "          google.colab.kernel.accessAllowed ? 'block' : 'none';\n",
              "\n",
              "        async function convertToInteractive(key) {\n",
              "          const element = document.querySelector('#df-eae2396d-6791-465c-8eb5-d2fc60fff932');\n",
              "          const dataTable =\n",
              "            await google.colab.kernel.invokeFunction('convertToInteractive',\n",
              "                                                     [key], {});\n",
              "          if (!dataTable) return;\n",
              "\n",
              "          const docLinkHtml = 'Like what you see? Visit the ' +\n",
              "            '<a target=\"_blank\" href=https://colab.research.google.com/notebooks/data_table.ipynb>data table notebook</a>'\n",
              "            + ' to learn more about interactive tables.';\n",
              "          element.innerHTML = '';\n",
              "          dataTable['output_type'] = 'display_data';\n",
              "          await google.colab.output.renderOutput(dataTable, element);\n",
              "          const docLink = document.createElement('div');\n",
              "          docLink.innerHTML = docLinkHtml;\n",
              "          element.appendChild(docLink);\n",
              "        }\n",
              "      </script>\n",
              "    </div>\n",
              "  </div>\n",
              "  "
            ]
          },
          "metadata": {},
          "execution_count": 167
        }
      ]
    },
    {
      "cell_type": "code",
      "source": [
        "#grafico predicted vs original\n",
        "\n",
        "import seaborn as sns\n",
        "sns.regplot(x='original', y='predicted', data=df4)\n",
        "plt.show()\n"
      ],
      "metadata": {
        "colab": {
          "base_uri": "https://localhost:8080/",
          "height": 310
        },
        "id": "9c5PdagF6drv",
        "outputId": "1be8fee2-8391-4ea0-8c51-4cccd52ca3ad"
      },
      "execution_count": null,
      "outputs": [
        {
          "output_type": "display_data",
          "data": {
            "text/plain": [
              "<Figure size 432x288 with 1 Axes>"
            ],
            "image/png": "[encoded data removed]"
          },
          "metadata": {
            "needs_background": "light"
          }
        }
      ]
    },
    {
      "cell_type": "markdown",
      "source": [
        "Analyzing the predicted data against the original data, we observe that:\n",
        "\n",
        "- the predicted data fit the original data very well, as can be visually observed from the graph \n",
        "- our model assigns more value to players who are very good at dribbling, we note how our model overestimates Messi's value by 22 mln. \n",
        "- our model assigns a lot of value to goalkeepers, overestimating alisson and donnarumma by a few million. \n",
        "- Instead, it tends to value less the players with greater defensive qualities (rudiger and marquinhos)"
      ],
      "metadata": {
        "id": "LJ19Kug6VSyP"
      }
    }
  ]
}